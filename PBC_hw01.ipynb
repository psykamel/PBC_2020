{
 "cells": [
  {
   "cell_type": "markdown",
   "metadata": {},
   "source": [
    "# 第一題（20 分）\n",
    "你正要去一間美術館看展覽，要買 x1 張全票與 x2 張學生票，而一張全票的售價是 p1 元，一張學生票則是 p2 元。若你拿出 t 元鈔票給櫃臺，請問是否足夠，以及若足夠，櫃臺會找你多少錢？\n",
    "\n",
    "### 輸入輸出格式\n",
    "系統會提供一共 10 組測試資料，每組測試資料裝在一個檔案裡。在每個檔案中會有五列，每列依序裝著一個非負整數 x1、p1、x2 、p2 與 t。已知 x1 和 x2 介於 0 到 20 之間、p1 和 p2 介於 0 到 100 之間、t ∈ {500, 1000}。請依題目指示，判斷 t 是否足夠支付票價，如果不夠則印出一個 −1；夠則先印出一個錢字號「$」，再印出櫃台找錢的金額，中間不可以有任何其他字元（包括空白字元）。"
   ]
  },
  {
   "cell_type": "code",
   "execution_count": 14,
   "metadata": {},
   "outputs": [
    {
     "name": "stdout",
     "output_type": "stream",
     "text": [
      "19\n",
      "80\n",
      "3\n",
      "40\n",
      "500\n",
      "-1\n"
     ]
    }
   ],
   "source": [
    "num_full = int(input())\n",
    "price_full = int(input())\n",
    "num_student = int(input())\n",
    "price_student = int(input())\n",
    "cash = int(input())\n",
    "\n",
    "total_price = num_full*price_full + num_student*price_student\n",
    "\n",
    "if cash >= total_price:\n",
    "    print(\"$\", cash - total_price, sep = \"\")\n",
    "else:\n",
    "    print(-1)"
   ]
  },
  {
   "cell_type": "markdown",
   "metadata": {},
   "source": [
    "# 第二題（20 分）\n",
    "承上題，美術館多了一項新的規定，每個人所購買的票券總張數不可以超過 b 張。假設你要買x1 張全票與 x2 張學生票，請判斷你購買的總張數會不會超過購票上限。同時，一張全票的售價是 p1元，一張學生票則是 p2 元。若你拿出 t 元鈔票給櫃臺，請判斷是否足夠，以及若足夠，櫃臺會找你多少錢。兩個判斷是獨立運作的，不論是否超過購票上限，都要判斷支付金額是否足夠，反之亦然。\n",
    "\n",
    "### 輸入輸出格式\n",
    "系統會提供一共 10 組測試資料，每組測試資料裝在一個檔案裡。在每個檔案中會有六列，每列依序裝著一個非負整數 x1、p1、x2 、p2 、t 與 b。已知 x1 和 x2 介於 0 到 20 之間、p1 和 p2 介於 0 到 100 之間、t ∈ {500, 1000}、b 介於 0 到 40 之間。請依題目指示，判斷購買總張數會不會超過 b，如果超過則印出一個 −1；如果不超過，則印出尚可購買的張數。接著印出一個逗號，再判斷 t 是否足夠支付票價，如果不夠則印出一個 −2；夠則先印出一個錢字號「$」，並印出櫃台找錢的金額，中間不可以有任何其他字元（包括空白字元）。\n"
   ]
  },
  {
   "cell_type": "code",
   "execution_count": 34,
   "metadata": {},
   "outputs": [
    {
     "name": "stdout",
     "output_type": "stream",
     "text": [
      "5\n",
      "60\n",
      "7\n",
      "30\n",
      "1000\n",
      "15\n",
      "3,$490\n"
     ]
    }
   ],
   "source": [
    "num_full = int(input())\n",
    "price_full = int(input())\n",
    "num_student = int(input())\n",
    "price_student = int(input())\n",
    "cash = int(input())\n",
    "num_max = int(input())\n",
    "\n",
    "num_total = num_full + num_student\n",
    "price_total = num_full*price_full + num_student*price_student\n",
    "\n",
    "if num_total <= num_max and price_total <= cash:\n",
    "    print(num_max - num_total, \",$\", cash - price_total, sep = \"\")\n",
    "elif num_total <= num_max and price_total > cash:\n",
    "    print(num_max - num_total, \",\", -2, sep = \"\")\n",
    "elif num_total > num_max and price_total <= cash:\n",
    "    print(-1, \",$\", cash - price_total, sep = \"\")\n",
    "else:\n",
    "    print(-1, \",\", -2, sep = \"\")"
   ]
  },
  {
   "cell_type": "markdown",
   "metadata": {},
   "source": [
    "# 第三題（30 分）\n",
    "承上題，你決定不要輸出那麼多的資訊。如果購買張數還沒超過購票上限，才印出尚可購買的張數；如果 t 足夠支付票價的話，才印出櫃檯找錢的金額。其他要求都和上一題一樣\n",
    "\n",
    "### 輸入輸出格式\n",
    "系統會提供一共 10 組測試資料，每組測試資料裝在一個檔案裡，輸入格式和第二題一模一樣。請依題目指示，判斷購買總張數會不會超過 b，如果超過則什麼都不做；不超過則印出尚可購買的張數，並印出一個逗號。接著判斷 t 是否足夠支付票價，如果不夠則什麼都不做；夠則先印出一個錢字號「$」，再印出櫃台找錢的金額，中間不可以有任何其他字元（包括空白字元）。在本題中，你的程式可能會在某些情境下在最後面輸出一個奇怪的逗點。為了簡單起見，在本題中請不要在意這件事；很快我們就會學到如何合理地處理那個逗點。"
   ]
  },
  {
   "cell_type": "code",
   "execution_count": 46,
   "metadata": {
    "scrolled": true
   },
   "outputs": [
    {
     "name": "stdout",
     "output_type": "stream",
     "text": [
      "19\n",
      "80\n",
      "3\n",
      "40\n",
      "500\n",
      "30\n",
      "8,"
     ]
    }
   ],
   "source": [
    "num_full = int(input())\n",
    "price_full = int(input())\n",
    "num_student = int(input())\n",
    "price_student = int(input())\n",
    "cash = int(input())\n",
    "num_max = int(input())\n",
    "\n",
    "num_total = num_full + num_student\n",
    "price_total = num_full*price_full + num_student*price_student\n",
    "\n",
    "if num_total <= num_max:\n",
    "    print(num_max - num_total, end=\",\")\n",
    "else:\n",
    "    pass\n",
    "\n",
    "if price_total <= cash:\n",
    "    print(\"$\", cash - price_total, sep=\"\")\n",
    "else:\n",
    "    pass\n"
   ]
  },
  {
   "cell_type": "markdown",
   "metadata": {},
   "source": [
    "# 第四題"
   ]
  },
  {
   "cell_type": "code",
   "execution_count": null,
   "metadata": {},
   "outputs": [],
   "source": [
    "# 輸入資料\n",
    "pm2pt5_concentration = int(input())\n",
    "temperature = int(input())\n",
    "dew_point = int(input())\n",
    "will_threshold = float(input())\n",
    "\n",
    "will_initial = 0.5\n",
    "humidity = 100 - 5*(temperature - dew_point)\n",
    "\n",
    "# 依PM2.5濃度進行相應的意願計算\n",
    "if pm2pt5_concentration <= 35:\n",
    "    will_air = will_initial + (100-pm2pt5_concentration)*0.005\n",
    "    if will_air > 1:\n",
    "        will_air = 1\n",
    "    else:\n",
    "        pass\n",
    "    if will_air < 0:\n",
    "        will_air = 0\n",
    "    else:\n",
    "        pass\n",
    "else:\n",
    "    will_air = will_initial + (45-pm2pt5_concentration)*0.02\n",
    "    if will_air > 1:\n",
    "        will_air = 1\n",
    "    else:\n",
    "        pass\n",
    "    if will_air < 0:\n",
    "        will_air = 0\n",
    "    else:\n",
    "        pass\n",
    "\n",
    "# 依空氣濕度進行相應的意願計算\n",
    "if humidity <= 30:\n",
    "    will_humidity = (will_initial/60) * (110-humidity)\n",
    "    if will_humidity > 1:\n",
    "        will_humidity = 1\n",
    "    else:\n",
    "        pass\n",
    "    if will_humidity < 0:\n",
    "        will_humidity = 0\n",
    "    else:\n",
    "        pass\n",
    "else:\n",
    "    will_humidity = (will_initial/45) * (90-humidity)\n",
    "    if will_humidity > 1:\n",
    "        will_humidity = 1\n",
    "    else:\n",
    "        pass\n",
    "    if will_humidity < 0:\n",
    "        will_humidity = 0\n",
    "    else:\n",
    "        pass\n",
    "\n",
    "# 判斷兩種意願中的最小值，作為最終意願\n",
    "if will_air <= will_humidity:\n",
    "    will_final = will_air\n",
    "else:\n",
    "    will_final = will_humidity\n",
    "\n",
    "print('{:.2f}'.format(will_final))\n",
    "if will_final >= will_threshold:\n",
    "    print(\"Let's go together.\")\n",
    "else:\n",
    "    print(\"I wouldn't go out with you.\")\n"
   ]
  }
 ],
 "metadata": {
  "kernelspec": {
   "display_name": "Python 3",
   "language": "python",
   "name": "python3"
  },
  "language_info": {
   "codemirror_mode": {
    "name": "ipython",
    "version": 3
   },
   "file_extension": ".py",
   "mimetype": "text/x-python",
   "name": "python",
   "nbconvert_exporter": "python",
   "pygments_lexer": "ipython3",
   "version": "3.8.3"
  }
 },
 "nbformat": 4,
 "nbformat_minor": 4
}
