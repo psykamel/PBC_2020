{
 "cells": [
  {
   "cell_type": "markdown",
   "metadata": {},
   "source": [
    "# 第一題（20 分）\n",
    "傳說中，6174 是一個神秘的數學黑洞。如果我們任選一個四位數，其中至少要有兩個數字不相\n",
    "同（如 6666 這個數字就不行），把四位數從大到小排序得到大數，再把數字由小到大排序得到小數，用\n",
    "大數減去小數後得到一個新的數字。不斷重複這個動作，最後一定會得到相同的結果：6174。\n",
    "\n",
    "舉例來說，如果我們選擇 387 這個數字，補零至四位，由大到小為 8730，由小到大為 0378。8730\n",
    "減掉 378 是 8352。接下來 8352 這個數字由大到小為 8532，由小到大為 2358。8532 減掉 2358 是 6174。\n",
    "算到這裡就差不多可以停止了，為什麼呢？因為接下來無論我們怎麼再怎麼算，都逃脫不了「6174」的\n",
    "魔掌，會永無止盡的持續下去。\n",
    "\n",
    "以我們現在的程度，要寫出完整的「6174」遊戲有點太辛苦了。在這次作業中，就讓我們來試試看\n",
    "一個簡單一點的任務：針對三位數做同樣的操作，進行三輪就好。任選一個三位數，此處的三位數如果\n",
    "不足三位，則補零至三位，其中至少要有兩個數字不相同，把三個位數從大到小排序，再把數字由小到\n",
    "大排序，用前者減去後者得到一個新的數字，重複三次，試試看會得到什麼樣的結果。說不定在三位數\n",
    "當中，也有一個類似於「6174」這樣的數學黑洞呢！\n",
    "\n",
    "### 輸入輸出格式\n",
    "系統會提供一共數組測試資料，每組測試資料裝在一個檔案裡。在每個檔案中，輸入資料共有 1 行，第\n",
    "一行為一個整數 x，表示我們選擇的三位數。已知 1 ≤ x ≤ 999，且 x 的各個數字不完全相同（例如不\n",
    "會是 111、222 這種）。請依題目指示算出新的三位數，重複三次，並依照先後順序輸出，兩兩以一個逗\n",
    "號隔開。"
   ]
  },
  {
   "cell_type": "code",
   "execution_count": 6,
   "metadata": {},
   "outputs": [
    {
     "name": "stdout",
     "output_type": "stream",
     "text": [
      "400\n",
      "396,594,495\n"
     ]
    }
   ],
   "source": [
    "# 輸入第一個數字\n",
    "num = int(input())\n",
    "\n",
    "# 進行三輪數學黑洞計算\n",
    "times = 1  # 進行到第幾回合的指標，初始值為1\n",
    "rounds = 3  # 總共要進行3輪\n",
    "while (times <= rounds):\n",
    "    # 取出各個位數\n",
    "    num_hundreds = (num % 1000) // 100\n",
    "    num_tens = (num % 100) // 10\n",
    "    num_digits = (num % 10) // 1\n",
    "\n",
    "    # 排列數字大小\n",
    "    num_list = [num_hundreds, num_tens, num_digits]\n",
    "    num_list.sort()\n",
    "\n",
    "    # 得到降冪與升冪的數字\n",
    "    num_descend = num_list[-1]*100 + num_list[-2]*10 + num_list[-3]\n",
    "    num_ascend = num_list[0]*100 + num_list[1]*10 + num_list[2]\n",
    "    num = num_descend - num_ascend\n",
    "    if times < rounds:\n",
    "        print(num, end=\",\")\n",
    "    else:\n",
    "        print(num)\n",
    "    \n",
    "    times = times + 1\n"
   ]
  },
  {
   "cell_type": "code",
   "execution_count": null,
   "metadata": {},
   "outputs": [],
   "source": [
    "#寫法二\n",
    "num = int(input())\n",
    "num_thousands = num // 1000\n",
    "num_hundreds = (num - num_thousands*1000) // 100\n",
    "num_tens = (num - num_thousands*1000 - num_hundreds*100) // 10\n",
    "num_digits = num - num_thousands*1000 - num_hundreds*100 - num_tens*10\n",
    "print(num, num_thousands, num_hundreds, num_tens, num_digits)"
   ]
  },
  {
   "cell_type": "markdown",
   "metadata": {},
   "source": [
    "# 第二題（20 分）\n",
    "快到中秋節了，身為大一新鮮人的你負責今年系烤的採買任務。系上同學人數眾多，你怕採購時買得太少，又怕到時候花太多錢被學長姐罵，恰好在路邊遇到一位開肉品工廠的老闆。老闆向你抱怨今年銷量不太好，倉庫堆了很多還沒賣掉的食材。你覺得機會難得，決定向老闆採購。\n",
    "\n",
    "社會經驗豐富的老闆表示他用三級距的方式定價。舉例來說：10 公斤以下每公斤 55 元；第 11 公斤到第 30 公斤，每公斤 40 元；第 31 公斤到第 1000 公斤，每公斤 35 元2。如果購買 45 公斤的話，則需要 55 × 10 + 40 × (30 − 10) + 35 × (45 − 30) = 1, 875 元3。\n",
    "\n",
    "怕被罵的你欣然接受肉品工廠老闆的提議。請仔細思考老闆提出的級距區間以及各級距的單價，試著算出最後應該付給老闆的錢。\n",
    "\n",
    "### 輸入輸出格式\n",
    "系統會提供一共數組測試資料，每組測試資料裝在一個檔案裡。在每個檔案中，會有七行。第一行為\n",
    "一個正整數 x，代表你最少需要購買的食材公斤數。後面六行各有一個正整數，依序為 t1、r1、t2、\n",
    "r2、t3、r3，其中 ti 代表購買的級距數量、ri 代表各級距的單價，i ∈ {1, 2, 3}。已知 1 ≤ x ≤ t3、\n",
    "1 ≤ t1 ≤ t2 ≤ t3 ≤ 10000、0 < ri ≤ 100。請依題目指示計算總金額，並輸出一個正整數。\n"
   ]
  },
  {
   "cell_type": "code",
   "execution_count": 19,
   "metadata": {},
   "outputs": [
    {
     "name": "stdout",
     "output_type": "stream",
     "text": [
      "45\n",
      "10\n",
      "55\n",
      "30\n",
      "40\n",
      "1000\n",
      "35\n",
      "1875\n"
     ]
    }
   ],
   "source": [
    "# 輸入資料\n",
    "num_buy_total = int(input())  # 購買總數\n",
    "num_range_1 = int(input())  # 第一級距數量\n",
    "price_range_1 = int(input())  # 第一級距價格\n",
    "num_range_2 = int(input())  # 第二級距數量\n",
    "price_range_2 = int(input())  # 第二級距價格\n",
    "num_range_3 = int(input())  # 第三級距數量\n",
    "price_range_3 = int(input())  # 第三級距價格\n",
    "\n",
    "if num_buy_total >= num_range_2:  # 若購買總數超過第二級距，計算三個級距分別的數量\n",
    "    num_buy_range_3 = num_buy_total - num_range_2\n",
    "    num_buy_range_2 = num_range_2 - num_range_1\n",
    "    num_buy_range_1 = num_range_1\n",
    "elif num_buy_total >= num_range_1:  # 若購買總數超過第一級距，計算第二與第一級距的數量\n",
    "    num_buy_range_3 = 0\n",
    "    num_buy_range_2 = num_buy_total - num_range_1\n",
    "    num_buy_range_1 = num_range_1\n",
    "else:  # 若購買總數步超過第一級距，第一級距的數量即購買總數\n",
    "    num_buy_range_3 = 0\n",
    "    num_buy_range_2 = 0\n",
    "    num_buy_range_1 = num_buy_total\n",
    "\n",
    "# 計算總價格並印出\n",
    "price_total = (num_buy_range_1*price_range_1\n",
    "               + num_buy_range_2*price_range_2\n",
    "               + num_buy_range_3*price_range_3)\n",
    "print(price_total)\n"
   ]
  },
  {
   "cell_type": "markdown",
   "metadata": {},
   "source": [
    "# 第三題（30 分）\n",
    "承上題，這次老闆給的級距個數由 3 改為 n 個，因此題目會給定 n 個級距數量 ti 與相對應的\n",
    "單價 ri，請依相同的規則算出總價。\n",
    "\n",
    "### 輸入輸出格式\n",
    "系統會提供一共數組測試資料，每組測試資料裝在一個檔案裡。在每個檔案中，會有 2n + 2 行。第一行\n",
    "為一個正整數 n，代表級距個數。第二行為一個正整數 x，代表你最少需要購買的食材公斤數。接著第\n",
    "三行至第 2n+ 2 行各有一個正整數，依序為 t1、r1、t2、r2 直到 tn、rn，其中 ti 代表購買的級距數量、\n",
    "ri 代表各級距的單價，i ∈ {1, 2, ..., n}。已知 1 ≤ n ≤ 50、1 ≤ x ≤ tn、1 ≤ t1 ≤ t2 ≤ · · · ≤ tn ≤ 10000、\n",
    "0 < ri ≤ 100。請依題目指示計算總金額，並輸出一個正整數。\n"
   ]
  },
  {
   "cell_type": "code",
   "execution_count": 30,
   "metadata": {},
   "outputs": [
    {
     "name": "stdout",
     "output_type": "stream",
     "text": [
      "3\n",
      "5\n",
      "10\n",
      "55\n",
      "30\n",
      "40\n",
      "1000\n",
      "55\n",
      "275\n"
     ]
    }
   ],
   "source": [
    "num_of_range = int(input())  # 輸入級距個數n\n",
    "num_buy_total = int(input())  # 輸入購買總數\n",
    "price_total = 0  # 設定總價格初始值=0\n",
    "num_buy_range_i_former = 0  # 設定上一個級距閾值初始=0\n",
    "stop_accumulate = False  # 偵測是否停止累進購買總金額，預設為否\n",
    "for i in range(num_of_range):\n",
    "    num_range_i = int(input())  # 輸入級距值\n",
    "    price_range_i = int(input())  # 輸入該級距價格\n",
    "\n",
    "    # 偵測是否計算該級距購買數量與停止累進購買總金額\n",
    "    if stop_accumulate:\n",
    "        continue\n",
    "    # 計算該級距購買數量與累進總金額\n",
    "    if num_buy_total >= num_range_i:  # 若購買總數達此級距閾值，則此級距的購買數為此級距閾值-上一個級距閾值\n",
    "        num_buy_range_i = num_range_i - num_buy_range_i_former\n",
    "        num_buy_range_i_former = num_range_i\n",
    "    else:  # 若購買總數未達此級距閾值，則此級距的購買數為購買總數-上一個級距閾值\n",
    "        num_buy_range_i = num_buy_total - num_buy_range_i_former\n",
    "        stop_accumulate = True\n",
    "\n",
    "    price_total = price_total + num_buy_range_i*price_range_i  # 累進購買總金額\n",
    "\n",
    "print(price_total)  # 輸出購買總金額\n"
   ]
  },
  {
   "cell_type": "markdown",
   "metadata": {},
   "source": [
    "# 第四題（30 分）\n",
    "艾莎每天都非常認真的練習冰雪魔法，甚至經常熬夜鑽研魔法，安娜知道姐姐艾莎有熬夜的壞\n",
    "習慣後，擔心熬夜會影響姊姊的好膚質，決定要規劃姐姐專屬的臉部保養大作戰。安娜請艾莎每天都要\n",
    "記錄自己的睡眠時間並以小時為單位，紀錄 n 天之後，安娜就會按照艾莎 n 天的睡眠時間安排 n 張面\n",
    "膜的保養之旅。\n",
    "\n",
    "安娜總共有三種面膜，分別為檸檬美白面膜、蜜糖修復面膜以及蛋白保濕面膜，依據每日睡眠時間\n",
    "以及 n 天的平均每日睡眠時間決定出每種面膜的數量，假設有 m 天睡眠時間超過 7 小時，安排 m 張\n",
    "檸檬美白面膜，這樣睡眠時間小於等於 7 小時的天數有 n − m 天，這時安娜會再去看艾莎的平均睡眠\n",
    "時間，如果平均睡眠時間小於等於 6 小時，會安排蜜糖修復面膜共 n − m 張，反之，如果平均睡眠時\n",
    "間超過 6 小時，則會規劃 n − m 張蛋白保濕面膜。\n",
    "5\n",
    "\n",
    "安娜安排完面膜保養之旅後，就會採買製作面膜的原料來做面膜給艾莎，安娜的面膜配方中，一張\n",
    "檸檬美白面膜需要 1.5 顆檸檬、4 單位的杏仁油；一張蜜糖修復面膜需要 18 單位的蜂蜜、9 單位的杏仁\n",
    "油；一張蛋白彈潤面膜需要 2 顆雞蛋、6 單位蜂蜜。\n",
    "安娜去雜貨店採買原料時，已知檸檬一顆售價 7 元，只能買整數顆檸檬，買五顆以上（包含）每顆\n",
    "檸檬打 9 折；杏仁油每單位 0.6 元；蜂蜜每單位 1.2 元；雞蛋每盒三顆，每盒 25 元，不拆售。最後結\n",
    "帳時，總金額會進行無條件捨去以整數計算。\n",
    "\n",
    "舉例來說，如果要規劃 8 天，睡眠時間依序是 6.5、4.8、7.0、6.5、8.0、6.5、6.0、6.5，則總睡眠\n",
    "時間為 6.5 + 4.8 + 7.0 + 6.5 + 8.0 + 6.5 + 6.0 + 6.5 = 51.8，平均每日睡眠時間為 51.8 ÷ 8 = 6.475，則\n",
    "這 8 天的面膜保養之旅需要 1 張檸檬美白面膜以及 7 張蛋白保濕面膜，所需的材料有 1.5 顆檸檬、\n",
    "4 單位的杏仁油、14 顆雞蛋、42 單位的蜂蜜，因為檸檬只能以整數顆購買，所以共購買 2 顆檸檬，\n",
    "14 顆雞蛋為 4.67 盒雞蛋，由於雞蛋只能以整數盒購買不拆售，所以需要購買 5 盒雞蛋，總共花費為\n",
    "2 × 7 + 4 × 0.6 + 5 × 25 + 42 × 1.2 = 191.8 元，無條件捨去小數位，輸出為 191。\n",
    "本題請同學根據艾莎 n 天的睡眠時間，來計算安娜應該準備多少錢去採買面膜的材料。\n",
    "\n",
    "### 輸入輸出格式\n",
    "系統會提供一共數組測試資料，每組測試資料裝在一個檔案裡。在每個檔案中，輸入資料共有 n + 1\n",
    "行，第一行為正整數 n，為輸入的睡眠時間天數，第二行到第 n + 1 行共有 n 行，每一行為一個非負數\n",
    "s1、s2 直到 sn，依序是艾莎第一天、第二天直到第 n 天以小時計算的睡眠時數，已知 n 介於 1 到 1000\n",
    "之間，s1、s2 直到 sn 都介於 0 到 24 之間。請依照輸入範圍，印出總共需要的金額。"
   ]
  },
  {
   "cell_type": "code",
   "execution_count": 47,
   "metadata": {},
   "outputs": [
    {
     "name": "stdout",
     "output_type": "stream",
     "text": [
      "4\n",
      "8.0\n",
      "8.5\n",
      "6.0\n",
      "7.5\n",
      "70\n"
     ]
    }
   ],
   "source": [
    "days_total = int(input())  # 總天數\n",
    "days_more_then_7 = 0  # 睡眠數多於7小時的天數，預設為0\n",
    "sleep_hours_total = 0  # 總睡眠時數，預設為0\n",
    "# 計算睡眠數多於7小時的天數與睡眠時數\n",
    "for i in range(days_total):\n",
    "    sleep_hours = float(input())  # 輸入睡眠時數\n",
    "    sleep_hours_total = sleep_hours_total + sleep_hours  # 累加總睡眠時數\n",
    "    if sleep_hours > 7:  # 累加睡眠數多於7小時的天數\n",
    "        days_more_then_7 += 1\n",
    "\n",
    "# 面膜數\n",
    "mask_lemon = days_more_then_7\n",
    "mask_honey = 0\n",
    "mask_egg = 0\n",
    "if sleep_hours_total / days_total <= 6:\n",
    "    mask_honey = days_total - days_more_then_7\n",
    "else:\n",
    "    mask_egg = days_total - days_more_then_7\n",
    "\n",
    "# 原料數量\n",
    "num_lemon = (mask_lemon*1.5)//1 + 1 if (mask_lemon*1.5) % 1 != 0 else (mask_lemon*1.5)  # 檸檬數無條件進位至一整顆為單位\n",
    "num_almond = mask_lemon*4 + mask_honey*9\n",
    "num_honey = mask_honey*18 + mask_egg*6\n",
    "num_egg_carton = (mask_egg*2)//3 + 1 if (mask_egg*2) % 3 != 0 else (mask_egg*2)//3  # 雞蛋盒數無條件進位至一整盒為單位\n",
    "\n",
    "# 原料價格\n",
    "price_lemon = num_lemon*7 if num_lemon < 5 else num_lemon*7*0.9\n",
    "price_almond = num_almond*0.6\n",
    "price_honey = num_honey*1.2\n",
    "price_egg_carton = num_egg_carton*25\n",
    "\n",
    "# 總價格\n",
    "price_total = price_lemon + price_almond + price_honey + price_egg_carton\n",
    "print(int(price_total))\n"
   ]
  }
 ],
 "metadata": {
  "kernelspec": {
   "display_name": "Python 3",
   "language": "python",
   "name": "python3"
  },
  "language_info": {
   "codemirror_mode": {
    "name": "ipython",
    "version": 3
   },
   "file_extension": ".py",
   "mimetype": "text/x-python",
   "name": "python",
   "nbconvert_exporter": "python",
   "pygments_lexer": "ipython3",
   "version": "3.8.3"
  }
 },
 "nbformat": 4,
 "nbformat_minor": 4
}
