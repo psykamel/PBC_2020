{
 "cells": [
  {
   "cell_type": "markdown",
   "metadata": {},
   "source": [
    "# 第一題"
   ]
  },
  {
   "cell_type": "code",
   "execution_count": 50,
   "metadata": {},
   "outputs": [
    {
     "name": "stdout",
     "output_type": "stream",
     "text": [
      "0.1,1.5,0,0.5\n",
      "0,0.5,1,0.5\n",
      "0.5,1.5,0.5,0\n",
      "LINESTOP\n",
      "-0.6,-0.6\n"
     ]
    }
   ],
   "source": [
    "# 輸入資料\n",
    "all_lines = []\n",
    "while True:\n",
    "    line = input()\n",
    "    if line == 'LINESTOP':\n",
    "        break\n",
    "    else:\n",
    "        line = [float(i) for i in line.split(',')]\n",
    "        all_lines.append(line)\n",
    "translation = input().split(',')\n",
    "translation = [float(i) for i in translation]\n"
   ]
  },
  {
   "cell_type": "code",
   "execution_count": 51,
   "metadata": {},
   "outputs": [
    {
     "data": {
      "text/plain": [
       "[[-0.5, 0.9, -0.6, -0.09999999999999998],\n",
       " [-0.6, -0.09999999999999998, 0.4, -0.09999999999999998],\n",
       " [-0.09999999999999998, 0.9, -0.09999999999999998, -0.6]]"
      ]
     },
     "execution_count": 51,
     "metadata": {},
     "output_type": "execute_result"
    }
   ],
   "source": [
    "# 平移函數\n",
    "def plotshift(linelist, xshift=0, yshift=0):\n",
    "    '''\n",
    "    '''\n",
    "    for i_line in range(len(linelist)):\n",
    "        for i_coord in range(len(linelist[i_line])):\n",
    "            if i_coord%2 == 0:\n",
    "                linelist[i_line][i_coord] += xshift\n",
    "            else:\n",
    "                linelist[i_line][i_coord] += yshift\n",
    "    return(linelist)\n",
    "\n",
    "# 呼叫平移函數\n",
    "plotshift(all_lines, translation[0], translation[1])\n"
   ]
  },
  {
   "cell_type": "code",
   "execution_count": 52,
   "metadata": {},
   "outputs": [
    {
     "name": "stdout",
     "output_type": "stream",
     "text": [
      "Line0: -0.500 0.900 -0.600 -0.100\n",
      "Line1: -0.600 -0.100 0.400 -0.100\n",
      "Line2: -0.100 0.900 -0.100 -0.600\n"
     ]
    }
   ],
   "source": [
    "# 輸出結果\n",
    "def printlines(linelist):\n",
    "    for i, aline in enumerate(linelist):\n",
    "        print(\"Line%d: %0.3f %0.3f %0.3f %0.3f\" % (i, aline[0], aline[1], aline[2], aline[3]))\n",
    "printlines(all_lines)\n"
   ]
  },
  {
   "cell_type": "markdown",
   "metadata": {},
   "source": [
    "# 第二題"
   ]
  },
  {
   "cell_type": "code",
   "execution_count": 4,
   "metadata": {},
   "outputs": [],
   "source": [
    "import math"
   ]
  },
  {
   "cell_type": "code",
   "execution_count": 11,
   "metadata": {},
   "outputs": [],
   "source": [
    "# 輸入資料\n",
    "all_lines = []\n",
    "while True:\n",
    "    line = input()\n",
    "    if line == 'LINESTOP':\n",
    "        break\n",
    "    else:\n",
    "        line = [float(i) for i in line.split(',')]\n",
    "        all_lines.append(line)\n",
    "degree = int(input())\n",
    "\n"
   ]
  },
  {
   "cell_type": "code",
   "execution_count": 12,
   "metadata": {},
   "outputs": [],
   "source": [
    "# 旋轉函數\n",
    "def rotate(linelist, degree=90):\n",
    "    # 實做你的函數\n",
    "    radian = math.radians(degree)\n",
    "    cos_radian = math.cos(radian)\n",
    "    sin_radian = math.sin(radian)\n",
    "    for line in linelist:\n",
    "        line[0], line[1] = line[0]*cos_radian + line[1]*(-sin_radian), line[0]*sin_radian + line[1]*cos_radian\n",
    "        line[2], line[3] = line[2]*cos_radian + line[3]*(-sin_radian), line[2]*sin_radian + line[3]*cos_radian\n",
    "\n",
    "    return linelist\n"
   ]
  },
  {
   "cell_type": "code",
   "execution_count": 13,
   "metadata": {},
   "outputs": [
    {
     "name": "stdout",
     "output_type": "stream",
     "text": [
      "Line0: 0.000 0.000 0.866 -0.500\n",
      "Line1: 0.866 -0.500 1.116 -0.067\n",
      "Line2: 1.366 0.366 0.000 0.000\n"
     ]
    }
   ],
   "source": [
    "rotate(all_lines, degree)\n",
    "def printlines(linelist):\n",
    "    for i, aline in enumerate(linelist):\n",
    "        print(\"Line%d: %0.3f %0.3f %0.3f %0.3f\" % (i, aline[0], aline[1], aline[2], aline[3]))\n",
    "printlines(all_lines)\n"
   ]
  },
  {
   "cell_type": "markdown",
   "metadata": {},
   "source": [
    "# 第三題"
   ]
  },
  {
   "cell_type": "code",
   "execution_count": 9,
   "metadata": {},
   "outputs": [
    {
     "ename": "NameError",
     "evalue": "name 'executions' is not defined",
     "output_type": "error",
     "traceback": [
      "\u001b[1;31m---------------------------------------------------------------------------\u001b[0m",
      "\u001b[1;31mNameError\u001b[0m                                 Traceback (most recent call last)",
      "\u001b[1;32m<ipython-input-9-3df7fb4bf4a5>\u001b[0m in \u001b[0;36m<module>\u001b[1;34m\u001b[0m\n\u001b[0;32m    130\u001b[0m \u001b[1;33m\u001b[0m\u001b[0m\n\u001b[0;32m    131\u001b[0m \u001b[1;31m# 輸出結果\u001b[0m\u001b[1;33m\u001b[0m\u001b[1;33m\u001b[0m\u001b[1;33m\u001b[0m\u001b[0m\n\u001b[1;32m--> 132\u001b[1;33m \u001b[1;32mfor\u001b[0m \u001b[0me\u001b[0m \u001b[1;32min\u001b[0m \u001b[0mexecutions\u001b[0m\u001b[1;33m:\u001b[0m\u001b[1;33m\u001b[0m\u001b[1;33m\u001b[0m\u001b[0m\n\u001b[0m\u001b[0;32m    133\u001b[0m     \u001b[0mprint\u001b[0m\u001b[1;33m(\u001b[0m\u001b[1;33m*\u001b[0m\u001b[0mget_result\u001b[0m\u001b[1;33m(\u001b[0m\u001b[0me\u001b[0m\u001b[1;33m)\u001b[0m\u001b[1;33m,\u001b[0m \u001b[0msep\u001b[0m\u001b[1;33m=\u001b[0m\u001b[1;34m','\u001b[0m\u001b[1;33m)\u001b[0m\u001b[1;33m\u001b[0m\u001b[1;33m\u001b[0m\u001b[0m\n",
      "\u001b[1;31mNameError\u001b[0m: name 'executions' is not defined"
     ]
    }
   ],
   "source": [
    "# 輸入球賽訊息\n",
    "records = []  # 初始化球賽資料總表\n",
    "while True:\n",
    "    record = input()\n",
    "    if record != \"RECORDSTOP\":\n",
    "        record = record.split(',')\n",
    "        # 將球隊名稱以後的資料轉為整數\n",
    "        for i in range(1, len(record)):\n",
    "            record[i] = int(record[i])\n",
    "        # 將該筆資料存入球賽資料總表\n",
    "        records.append(record)\n",
    "    else:\n",
    "        break\n",
    "\n",
    "# 輸入執行計算訊息\n",
    "executions = []  # 初始化執行項目總表\n",
    "while True:\n",
    "    execution = input()\n",
    "    if execution != \"FUNCTIONSTOP\":\n",
    "        execution = execution.split(' ')\n",
    "        # 將該筆資料存入執行項目總表\n",
    "        executions.append(execution)\n",
    "    else:\n",
    "        break\n",
    "\n",
    "\n",
    "# 無條件捨去到小數點第二位function\n",
    "def chop(avg):\n",
    "    '''\n",
    "    計算無條件捨去到小數點第二位時的 function : 將計算出的結果傳入，回傳值即為符合本次輸出要求的格式\n",
    "    '''\n",
    "    avg = int(avg*100) / 100\n",
    "    return avg if avg > 0 else 0\n",
    "\n",
    "\n",
    "# 1. 指定球員、指定球季\n",
    "def player_avg(seasons, records, player_number):\n",
    "    '''\n",
    "    計算指定的player_number球員在seasons的打擊率，最後回傳打擊率\n",
    "    seasons：指定的球季，以 List 的形式傳入\n",
    "    records：系統中所有紀錄，以 List 的形式傳入\n",
    "    player_number：指定的一個球員號碼\n",
    "    '''\n",
    "    AB_num = 0  # 初始化打數\n",
    "    hits_num = 0  # 初始化安打數\n",
    "    # 搜尋每筆資料\n",
    "    for record in records:\n",
    "        if record[1] == player_number and record[2] in seasons:  # 若屬player_number球員且在seasons\n",
    "            AB_num += record[3]  # 累計打數\n",
    "            hits_num += record[4]  # 累計安打數\n",
    "    hits_rate = chop(hits_num / AB_num)\n",
    "\n",
    "    return hits_rate  # 計算打擊率，並無條件捨去到小數點第二位\n",
    "\n",
    "\n",
    "# 2. 指定球隊、指定球季\n",
    "def team_avg(seasons, records, team_name):\n",
    "    '''\n",
    "    計算指定的team_name球隊在seasons的打擊率，最後回傳打擊率\n",
    "    seasons：指定的球季，以 List 的形式傳入\n",
    "    records：系統中所有紀錄，以 List 的形式傳入\n",
    "    team_name：指定的一個球隊代號\n",
    "    '''\n",
    "    AB_num = 0  # 初始化打數\n",
    "    hits_num = 0  # 初始化安打數\n",
    "    # 搜尋每筆資料\n",
    "    for record in records:\n",
    "        if record[0] == team_name and record[2] in seasons:  # 若屬team_name球隊且在seasons\n",
    "            AB_num += record[3]\n",
    "            hits_num += record[4]\n",
    "    hits_rate = chop(hits_num / AB_num)\n",
    "\n",
    "    return hits_rate  # 計算打擊率，並無條件捨去到小數點第二位\n",
    "\n",
    "\n",
    "# 3. 指定賽季、所有球員\n",
    "def best_player(seasons, records):\n",
    "    '''\n",
    "    計算指定的seasons中，哪位球員有最高的打擊率，最後回傳依照seasons\n",
    "    順序排列的表現最佳球員號碼，如果多名球員在某一季的打擊率相同，則選\n",
    "    打數較少的那位球員， 若打數仍然相同，則選擇號碼數字較小的那位球員。\n",
    "    seasons：指定的球季，以 List 的形式傳入\n",
    "    records：系統中所有紀錄，以 List 的形式傳入\n",
    "    '''\n",
    "    seasons.sort()  # 先將seasons按順序排序，最後輸出會自動依此順序\n",
    "    top_player_no = []  # 初始化表現最佳球員號碼\n",
    "    # 個別針對指定的每一個season去觀察球員情形\n",
    "    for season in seasons:\n",
    "        s_result = []  # 初始化屬於該season資料點的列表\n",
    "        # 看每一筆資料點\n",
    "        for record in records:\n",
    "            r_season = record[2]\n",
    "            # 若該筆資料屬於該season，將資料([打擊率的倒數, 打數, 球員編號])存入\n",
    "            if r_season == season:\n",
    "                r_AB = record[3]\n",
    "                r_hits = record[4]\n",
    "                r_hits_rate = r_hits / r_AB\n",
    "                recip_r_hits_rate = 1/r_hits_rate if r_hits_rate != 0 else float('Inf')  # 取打擊率的倒數方便比較，打擊率為0的情形倒數最大\n",
    "                r_player_no = record[1]\n",
    "                s_result.append([recip_r_hits_rate, r_AB, r_player_no])  # 題雖求打擊率最大者，但使用打擊率的倒數，可與打數和球員編號一樣自動從小到大排序\n",
    "        top_player_no.append(sorted(s_result)[0][2])  # 取第一筆資料，其打擊率的倒數最小(打擊率最大)、打數相較小、球員編號相較小，合題需求\n",
    "\n",
    "    return top_player_no\n",
    "\n",
    "\n",
    "# 4. 指定賽季、所有球隊\n",
    "def best_team(seasons, records):\n",
    "    '''\n",
    "    計算指定的seasons中，哪支球隊有最高的團隊打擊率，最後回傳依照seasons順序排列的表現最佳球隊代號，如果多個球隊在某一季的團隊打擊率\n",
    "    相同，則選擇打數較少的那個球隊，若打數仍然相同，則選擇英文字母排序較前 ( A  最前， Z  最後)的那個球隊。\n",
    "    seasons：指定的球季，是以 List 的形式傳入\n",
    "    records：系統中的所有紀錄，是以 List 的形式傳入\n",
    "    '''\n",
    "    seasons.sort()  # 先將seasons按順序排序，最後輸出會自動依此順序\n",
    "    top_team_name = []  # 初始化表現最佳球隊代號\n",
    "    # 個別針對指定的每一個season去觀察球隊情形\n",
    "    for season in seasons:\n",
    "        s_teams = []  # 初始化該season有的球隊代號列表\n",
    "        s_result = []  # 初始化屬於該season資料點(已整理，要拿來做比較)的列表\n",
    "        # 看每一筆資料點，確認該season有哪些球隊\n",
    "        for record in records:\n",
    "            # 若該筆資料屬於該season，將其球隊代號、該筆資料存入\n",
    "            if record[2] == season:\n",
    "                if record[0] not in s_teams:  # 存入球隊代號：若此season的球隊代號列表中已有此球隊代號，不會重複加入\n",
    "                    s_teams.append(record[0])\n",
    "        s_teams.sort()\n",
    "        # 看該season有的每一個球隊打擊情形\n",
    "        for team_name in s_teams:\n",
    "            t_AB = 0\n",
    "            t_hits = 0\n",
    "            for record in records:\n",
    "                if record[0] == team_name and record[2] == season:\n",
    "                    t_AB += record[3]\n",
    "                    t_hits += record[4]\n",
    "            t_hits_rate = t_hits / t_AB\n",
    "            recip_t_hits_rate = 1/t_hits_rate if t_hits_rate != 0 else float('Inf')  # 取打擊率的倒數方便比較，打擊率為0的情形最大\n",
    "            s_result.append([recip_t_hits_rate, t_AB, team_name])  # 題雖求打擊率最大者，但使用打擊率的倒數，可與打數和球隊代號一樣自動從小到大排序\n",
    "        top_team_name.append(sorted(s_result)[0][2])  # 取第一筆資料，其打擊率的倒數最小(打擊率最大)、打數相較小、球隊代號相較小，合題需求\n",
    "\n",
    "    return top_team_name\n",
    "\n",
    "\n",
    "# 輸出結果函式\n",
    "def get_result(execution):\n",
    "    typ = int(execution[0])\n",
    "    e_seasons = [int(e_season) for e_season in execution[1].split(',')]\n",
    "    if typ == 1:\n",
    "        e_player_number = int(execution[2])\n",
    "        return [player_avg(seasons=e_seasons, records=records, player_number=e_player_number)]\n",
    "    elif typ == 2:\n",
    "        e_team_name = execution[2]\n",
    "        return [team_avg(seasons=e_seasons, records=records, team_name=e_team_name)]\n",
    "    elif typ == 3:\n",
    "        return best_player(seasons=e_seasons, records=records)\n",
    "    else:\n",
    "        return best_team(seasons=e_seasons, records=records)\n",
    "\n",
    "# 輸出結果\n",
    "for e in executions:\n",
    "    print(*get_result(e), sep=',')\n"
   ]
  }
 ],
 "metadata": {
  "kernelspec": {
   "display_name": "Python 3",
   "language": "python",
   "name": "python3"
  },
  "language_info": {
   "codemirror_mode": {
    "name": "ipython",
    "version": 3
   },
   "file_extension": ".py",
   "mimetype": "text/x-python",
   "name": "python",
   "nbconvert_exporter": "python",
   "pygments_lexer": "ipython3",
   "version": "3.8.5"
  }
 },
 "nbformat": 4,
 "nbformat_minor": 4
}
